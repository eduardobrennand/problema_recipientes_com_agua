{
 "cells": [
  {
   "cell_type": "code",
   "execution_count": 2,
   "metadata": {},
   "outputs": [],
   "source": [
    "from search import *\n",
    "import networkx as nx\n",
    "import matplotlib.pyplot as plt"
   ]
  },
  {
   "cell_type": "code",
   "execution_count": 3,
   "metadata": {},
   "outputs": [],
   "source": [
    "class WaterJugProblem(Problem):\n",
    "    def __init__(self, initial, goal, capacities):\n",
    "        super().__init__(initial, goal)\n",
    "        self.capacities = capacities\n",
    "\n",
    "# acoes possiveis\n",
    "    def actions(self, state):\n",
    "        actions = []\n",
    "        recipiente_x, recipiente_y = state\n",
    "        # Se o recipiente X tiver menos que sua capacidade, enche X.\n",
    "        if recipiente_x < self.capacities[0]: actions.append('Enche recipiente X')\n",
    "        # Se o recipiente Y tiver menos que sua capacidade, enche Y.\n",
    "        if recipiente_y < self.capacities[1]: actions.append('Enche recipiente Y')\n",
    "        # Se recipiente X não estiver vazio, esvazia X\n",
    "        if recipiente_x > 0: actions.append('Esvazia recipiente X')\n",
    "        # Se recipiente Y não estiver vazio, esvazia Y\n",
    "        if recipiente_y > 0: actions.append('Esvazia recipiente Y')\n",
    "        # Se recipiente X não estiver vazio e recipiente Y não estiver cheio, transfere do recipente X para o recipiente Y\n",
    "        if recipiente_x > 0 and recipiente_y < self.capacities[1]: \n",
    "            actions.append('Transfere do recipiente X para o recipiente Y')\n",
    "        # Se recipiente Y não estiver vazio e recipiente X não estiver cheio, transfere do recipente Y para o recipiente X\n",
    "        if recipiente_y > 0 and recipiente_x < self.capacities[0]: \n",
    "            actions.append('Transfere do recipiente Y para o recipiente X')\n",
    "        return actions\n",
    "\n",
    "# resultados\n",
    "    def result(self, state, action):\n",
    "        recipiente_x, recipiente_y = state\n",
    "        if action == 'Enche recipiente X': \n",
    "            return (self.capacities[0], recipiente_y)\n",
    "        if action == 'Enche recipiente Y': \n",
    "            return (recipiente_x, self.capacities[1])\n",
    "        if action == 'Esvazia recipiente X': \n",
    "            return (0, recipiente_y)\n",
    "        if action == 'Esvazia recipiente Y': \n",
    "            return (recipiente_x, 0)\n",
    "        if action == 'Transfere do recipiente X para o recipiente Y':\n",
    "            return (recipiente_x - (self.capacities[1] - recipiente_y), self.capacities[1]) if recipiente_x > self.capacities[1] - recipiente_y else (0, recipiente_x + recipiente_y)\n",
    "        if action == 'Transfere do recipiente Y para o recipiente X':\n",
    "            return (self.capacities[0], recipiente_y - (self.capacities[0] - recipiente_x)) if recipiente_y > self.capacities[0] - recipiente_x else (recipiente_x + recipiente_y, 0)\n",
    "\n",
    "# checagem se chegou no objetivo final\n",
    "    def goal_test(self, state):\n",
    "        return state == self.goal\n",
    "\n",
    "# custo de caminho de cada acao\n",
    "    def path_cost(self, c, state1, action, state2):\n",
    "        return c + 1\n"
   ]
  },
  {
   "cell_type": "markdown",
   "metadata": {},
   "source": [
    "## Problema Busca Informada -> Recipientes com Água (9, 4) - versão 2:\n",
    "Sejam 2 recipientes com capacidades iguais a 9 e 4 litros e uma torneira de\n",
    "água. Sabendo-se que os recipientes estão inicialmente vazios e que é possível\n",
    "enchê-los na torneira, ou esvaziá-los passando a água de um para o outro ou\n",
    "derramando-a no chão, o problema consiste em obter 7 litros de água no\n",
    "recipiente de 9 litros.\n",
    "\n",
    "\n",
    "## Formalização do Problema\n",
    "- Estado Inicial: (0, 0)\n",
    "- Capacidade Máxima: (9, 4)\n",
    "- Ações: (Encher um recipiente até capacidade máxima, esvaziar totalmente um recipiente, transferir água de um recipiente para o outro)\n",
    "- Estado Final: (7, 0)\n",
    "- Custo de Caminho: 1\n"
   ]
  },
  {
   "cell_type": "code",
   "execution_count": 4,
   "metadata": {},
   "outputs": [],
   "source": [
    "problema = WaterJugProblem(initial=(0, 0), goal=(7, 0), capacities=(9, 4))"
   ]
  },
  {
   "cell_type": "markdown",
   "metadata": {},
   "source": [
    "### Heurística:\n",
    "- Como temos como objetivo atingir 7 litros no recipiente X, usarei como heurística a diferença entre a quantidade de água atual do recipiente X e 7 litros:\n",
    "$$\n",
    "H = X - 7\n",
    "$$"
   ]
  },
  {
   "cell_type": "code",
   "execution_count": 5,
   "metadata": {},
   "outputs": [],
   "source": [
    "def heuristic(state):\n",
    "    # Considera a diferença entre a quantidade de água no recipiente Y e o objetivo (2 litros)\n",
    "    state = state.state\n",
    "    recipiente_x, recipiente_y = state\n",
    "\n",
    "    return recipiente_x - 7"
   ]
  },
  {
   "cell_type": "markdown",
   "metadata": {},
   "source": [
    "### Busca Gulosa por Heurística"
   ]
  },
  {
   "cell_type": "code",
   "execution_count": 6,
   "metadata": {},
   "outputs": [
    {
     "name": "stdout",
     "output_type": "stream",
     "text": [
      "Busca Gulosa por Heurística:\n",
      "Ação: Enche recipiente X\n",
      "Estado Resultante: (9, 0)\n",
      "Ação: Transfere do recipiente X para o recipiente Y\n",
      "Estado Resultante: (5, 4)\n",
      "Ação: Esvazia recipiente Y\n",
      "Estado Resultante: (5, 0)\n",
      "Ação: Transfere do recipiente X para o recipiente Y\n",
      "Estado Resultante: (1, 4)\n",
      "Ação: Esvazia recipiente Y\n",
      "Estado Resultante: (1, 0)\n",
      "Ação: Transfere do recipiente X para o recipiente Y\n",
      "Estado Resultante: (0, 1)\n",
      "Ação: Enche recipiente X\n",
      "Estado Resultante: (9, 1)\n",
      "Ação: Transfere do recipiente X para o recipiente Y\n",
      "Estado Resultante: (6, 4)\n",
      "Ação: Esvazia recipiente Y\n",
      "Estado Resultante: (6, 0)\n",
      "Ação: Transfere do recipiente X para o recipiente Y\n",
      "Estado Resultante: (2, 4)\n",
      "Ação: Esvazia recipiente Y\n",
      "Estado Resultante: (2, 0)\n",
      "Ação: Transfere do recipiente X para o recipiente Y\n",
      "Estado Resultante: (0, 2)\n",
      "Ação: Enche recipiente X\n",
      "Estado Resultante: (9, 2)\n",
      "Ação: Transfere do recipiente X para o recipiente Y\n",
      "Estado Resultante: (7, 4)\n",
      "Ação: Esvazia recipiente Y\n",
      "Estado Resultante: (7, 0)\n",
      "Busca concluída. Total de ações: 15\n"
     ]
    }
   ],
   "source": [
    "busca_gulosa = greedy_best_first_graph_search(problema, f=heuristic)\n",
    "\n",
    "acoes_ate_objetivo = []\n",
    "while busca_gulosa.parent is not None:\n",
    "    acoes_ate_objetivo.insert(0, (busca_gulosa.action, busca_gulosa.state))\n",
    "    busca_gulosa = busca_gulosa.parent\n",
    "\n",
    "total_acoes = 0\n",
    "print(\"Busca Gulosa por Heurística:\")\n",
    "for action, state in acoes_ate_objetivo:\n",
    "    print(f\"Ação: {action}\\nEstado Resultante: {state}\")\n",
    "    total_acoes += 1\n",
    "print(f\"Busca concluída. Total de ações: {total_acoes}\")"
   ]
  },
  {
   "cell_type": "markdown",
   "metadata": {},
   "source": [
    "### Busca A*"
   ]
  },
  {
   "cell_type": "code",
   "execution_count": 7,
   "metadata": {},
   "outputs": [
    {
     "name": "stdout",
     "output_type": "stream",
     "text": [
      "Busca A*:\n",
      "Ação: Enche recipiente Y\n",
      "Estado Resultante: (0, 4)\n",
      "Ação: Transfere do recipiente Y para o recipiente X\n",
      "Estado Resultante: (4, 0)\n",
      "Ação: Enche recipiente Y\n",
      "Estado Resultante: (4, 4)\n",
      "Ação: Transfere do recipiente Y para o recipiente X\n",
      "Estado Resultante: (8, 0)\n",
      "Ação: Enche recipiente Y\n",
      "Estado Resultante: (8, 4)\n",
      "Ação: Transfere do recipiente Y para o recipiente X\n",
      "Estado Resultante: (9, 3)\n",
      "Ação: Esvazia recipiente X\n",
      "Estado Resultante: (0, 3)\n",
      "Ação: Transfere do recipiente Y para o recipiente X\n",
      "Estado Resultante: (3, 0)\n",
      "Ação: Enche recipiente Y\n",
      "Estado Resultante: (3, 4)\n",
      "Ação: Transfere do recipiente Y para o recipiente X\n",
      "Estado Resultante: (7, 0)\n",
      "Busca concluída. Total de ações: 10\n"
     ]
    }
   ],
   "source": [
    "busca_Aestrela = astar_search(problema, h=heuristic)\n",
    "\n",
    "acoes_ate_objetivo = []\n",
    "while busca_Aestrela.parent is not None:\n",
    "    acoes_ate_objetivo.insert(0, (busca_Aestrela.action, busca_Aestrela.state))\n",
    "    busca_Aestrela = busca_Aestrela.parent\n",
    "\n",
    "total_acoes = 0\n",
    "print(\"Busca A*:\")\n",
    "for action, state in acoes_ate_objetivo:\n",
    "    print(f\"Ação: {action}\\nEstado Resultante: {state}\")\n",
    "    total_acoes += 1\n",
    "print(f\"Busca concluída. Total de ações: {total_acoes}\")"
   ]
  }
 ],
 "metadata": {
  "kernelspec": {
   "display_name": "env",
   "language": "python",
   "name": "python3"
  },
  "language_info": {
   "codemirror_mode": {
    "name": "ipython",
    "version": 3
   },
   "file_extension": ".py",
   "mimetype": "text/x-python",
   "name": "python",
   "nbconvert_exporter": "python",
   "pygments_lexer": "ipython3",
   "version": "3.12.3"
  }
 },
 "nbformat": 4,
 "nbformat_minor": 2
}
