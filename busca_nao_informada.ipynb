{
 "cells": [
  {
   "cell_type": "code",
   "execution_count": 1,
   "metadata": {},
   "outputs": [],
   "source": [
    "from search import *\n",
    "import networkx as nx\n",
    "import matplotlib.pyplot as plt"
   ]
  },
  {
   "cell_type": "code",
   "execution_count": 2,
   "metadata": {},
   "outputs": [],
   "source": [
    "class WaterJugProblem(Problem):\n",
    "    def __init__(self, initial, goal, capacities):\n",
    "        super().__init__(initial, goal)\n",
    "        self.capacities = capacities\n",
    "\n",
    "    def actions(self, state):\n",
    "        actions = []\n",
    "        recipiente_x, recipiente_y = state\n",
    "        # Se o recipiente X tiver menos que sua capacidade, enche X.\n",
    "        if recipiente_x < self.capacities[0]: actions.append('Enche recipiente X')\n",
    "        # Se o recipiente Y tiver menos que sua capacidade, enche Y.\n",
    "        if recipiente_y < self.capacities[1]: actions.append('Enche recipiente Y')\n",
    "        # Se recipiente X não estiver vazio, esvazia X\n",
    "        if recipiente_x > 0: actions.append('Esvazia recipiente X')\n",
    "        # Se recipiente Y não estiver vazio, esvazia Y\n",
    "        if recipiente_y > 0: actions.append('Esvazia recipiente Y')\n",
    "        # Se recipiente X não estiver vazio e recipiente Y não estiver cheio, transfere do recipente X para o recipiente Y\n",
    "        if recipiente_x > 0 and recipiente_y < self.capacities[1]: \n",
    "            actions.append('Transfere do recipiente X para o recipiente Y')\n",
    "        # Se recipiente Y não estiver vazio e recipiente X não estiver cheio, transfere do recipente Y para o recipiente X\n",
    "        if recipiente_y > 0 and recipiente_x < self.capacities[0]: \n",
    "            actions.append('Transfere do recipiente Y para o recipiente X')\n",
    "        return actions\n",
    "\n",
    "    def result(self, state, action):\n",
    "        recipiente_x, recipiente_y = state\n",
    "        if action == 'Enche recipiente X': \n",
    "            return (self.capacities[0], recipiente_y)\n",
    "        if action == 'Enche recipiente Y': \n",
    "            return (recipiente_x, self.capacities[1])\n",
    "        if action == 'Esvazia recipiente X': \n",
    "            return (0, recipiente_y)\n",
    "        if action == 'Esvazia recipiente Y': \n",
    "            return (recipiente_x, 0)\n",
    "        if action == 'Transfere do recipiente X para o recipiente Y':\n",
    "            return (recipiente_x - (self.capacities[1] - recipiente_y), self.capacities[1]) if recipiente_x > self.capacities[1] - recipiente_y else (0, recipiente_x + recipiente_y)\n",
    "        if action == 'Transfere do recipiente Y para o recipiente X':\n",
    "            return (self.capacities[0], recipiente_y - (self.capacities[0] - recipiente_x)) if recipiente_y > self.capacities[0] - recipiente_x else (recipiente_x + recipiente_y, 0)\n",
    "\n",
    "    def goal_test(self, state):\n",
    "        return state == self.goal\n",
    "\n",
    "    def path_cost(self, c, state1, action, state2):\n",
    "        return c + 1\n"
   ]
  },
  {
   "cell_type": "markdown",
   "metadata": {},
   "source": [
    "## Problema Busca Não Informada -> Recipientes com Água (4, 3) – versão 2:\n",
    "Sejam 2 recipientes com capacidades iguais a 4 e 3 litros e uma torneira de\n",
    "água. Sabendo-se que os recipientes estão inicialmente vazios e que é possível\n",
    "enchê-los na torneira, ou esvaziá-los passando a água de um para o outro ou\n",
    "derramando-a no chão, o problema consiste em obter 2 litros de água no\n",
    "recipiente de 3 litros.\n",
    "\n",
    "\n",
    "## Formalização do Problema\n",
    "- Estado Inicial: (0, 0)\n",
    "- Capacidade Máxima: (4, 3)\n",
    "- Ações: (Encher um recipiente até capacidade máxima, esvaziar totalmente um recipiente, transferir água de um recipiente para o outro)\n",
    "- Estado Final: (0, 2)\n",
    "- Custo de Caminho: 1"
   ]
  },
  {
   "cell_type": "code",
   "execution_count": 3,
   "metadata": {},
   "outputs": [],
   "source": [
    "problema = WaterJugProblem(initial=(0, 0), goal=(0, 2), capacities=(4, 3))"
   ]
  },
  {
   "cell_type": "markdown",
   "metadata": {},
   "source": [
    "### Busca em Largura"
   ]
  },
  {
   "cell_type": "code",
   "execution_count": 4,
   "metadata": {},
   "outputs": [
    {
     "name": "stdout",
     "output_type": "stream",
     "text": [
      "Busca em Largura:\n",
      "Ação: Enche recipiente Y\n",
      "Estado Resultante: (0, 3)\n",
      "Ação: Transfere do recipiente Y para o recipiente X\n",
      "Estado Resultante: (3, 0)\n",
      "Ação: Enche recipiente Y\n",
      "Estado Resultante: (3, 3)\n",
      "Ação: Transfere do recipiente Y para o recipiente X\n",
      "Estado Resultante: (4, 2)\n",
      "Ação: Esvazia recipiente X\n",
      "Estado Resultante: (0, 2)\n",
      "Busca concluída. Total de ações: 5\n"
     ]
    }
   ],
   "source": [
    "busca_em_largura = breadth_first_tree_search(problema)\n",
    "\n",
    "acoes_ate_objetivo = []\n",
    "while busca_em_largura.parent is not None:\n",
    "    acoes_ate_objetivo.insert(0, (busca_em_largura.action, busca_em_largura.state))\n",
    "    busca_em_largura = busca_em_largura.parent\n",
    "\n",
    "total_acoes = 0\n",
    "print(\"Busca em Largura:\")\n",
    "for action, state in acoes_ate_objetivo:\n",
    "    print(f\"Ação: {action}\\nEstado Resultante: {state}\")\n",
    "    total_acoes += 1\n",
    "print(f\"Busca concluída. Total de ações: {total_acoes}\")"
   ]
  },
  {
   "cell_type": "markdown",
   "metadata": {},
   "source": [
    "### Busca em Profundidade"
   ]
  },
  {
   "cell_type": "code",
   "execution_count": 6,
   "metadata": {},
   "outputs": [
    {
     "name": "stdout",
     "output_type": "stream",
     "text": [
      "Busca em Profundidade:\n",
      "Ação: Enche recipiente Y\n",
      "Estado Resultante: (0, 3)\n",
      "Ação: Transfere do recipiente Y para o recipiente X\n",
      "Estado Resultante: (3, 0)\n",
      "Ação: Enche recipiente Y\n",
      "Estado Resultante: (3, 3)\n",
      "Ação: Transfere do recipiente Y para o recipiente X\n",
      "Estado Resultante: (4, 2)\n",
      "Ação: Esvazia recipiente X\n",
      "Estado Resultante: (0, 2)\n",
      "Busca concluída. Total de ações: 5\n"
     ]
    }
   ],
   "source": [
    "busca_em_profundidade = depth_first_graph_search(problema)\n",
    "\n",
    "acoes_ate_objetivo = []\n",
    "while busca_em_profundidade.parent is not None:\n",
    "    acoes_ate_objetivo.insert(0, (busca_em_profundidade.action, busca_em_profundidade.state))\n",
    "    busca_em_profundidade = busca_em_profundidade.parent\n",
    "\n",
    "total_acoes = 0\n",
    "print(\"Busca em Profundidade:\")\n",
    "for action, state in acoes_ate_objetivo:\n",
    "    print(f\"Ação: {action}\\nEstado Resultante: {state}\")\n",
    "    total_acoes += 1\n",
    "print(f\"Busca concluída. Total de ações: {total_acoes}\")"
   ]
  },
  {
   "cell_type": "markdown",
   "metadata": {},
   "source": [
    "### Busca em Profundidade Limitada"
   ]
  },
  {
   "cell_type": "code",
   "execution_count": 7,
   "metadata": {},
   "outputs": [
    {
     "name": "stdout",
     "output_type": "stream",
     "text": [
      "Busca em Profundidade Limitada:\n",
      "Ação: Enche recipiente X\n",
      "Estado Resultante: (4, 0)\n",
      "Ação: Enche recipiente Y\n",
      "Estado Resultante: (4, 3)\n",
      "Ação: Esvazia recipiente X\n",
      "Estado Resultante: (0, 3)\n",
      "Ação: Enche recipiente X\n",
      "Estado Resultante: (4, 3)\n",
      "Ação: Esvazia recipiente X\n",
      "Estado Resultante: (0, 3)\n",
      "Ação: Enche recipiente X\n",
      "Estado Resultante: (4, 3)\n",
      "Ação: Esvazia recipiente X\n",
      "Estado Resultante: (0, 3)\n",
      "Ação: Enche recipiente X\n",
      "Estado Resultante: (4, 3)\n",
      "Ação: Esvazia recipiente X\n",
      "Estado Resultante: (0, 3)\n",
      "Ação: Enche recipiente X\n",
      "Estado Resultante: (4, 3)\n",
      "Ação: Esvazia recipiente X\n",
      "Estado Resultante: (0, 3)\n",
      "Ação: Enche recipiente X\n",
      "Estado Resultante: (4, 3)\n",
      "Ação: Esvazia recipiente X\n",
      "Estado Resultante: (0, 3)\n",
      "Ação: Enche recipiente X\n",
      "Estado Resultante: (4, 3)\n",
      "Ação: Esvazia recipiente X\n",
      "Estado Resultante: (0, 3)\n",
      "Ação: Enche recipiente X\n",
      "Estado Resultante: (4, 3)\n",
      "Ação: Esvazia recipiente X\n",
      "Estado Resultante: (0, 3)\n",
      "Ação: Enche recipiente X\n",
      "Estado Resultante: (4, 3)\n",
      "Ação: Esvazia recipiente X\n",
      "Estado Resultante: (0, 3)\n",
      "Ação: Enche recipiente X\n",
      "Estado Resultante: (4, 3)\n",
      "Ação: Esvazia recipiente X\n",
      "Estado Resultante: (0, 3)\n",
      "Ação: Enche recipiente X\n",
      "Estado Resultante: (4, 3)\n",
      "Ação: Esvazia recipiente X\n",
      "Estado Resultante: (0, 3)\n",
      "Ação: Enche recipiente X\n",
      "Estado Resultante: (4, 3)\n",
      "Ação: Esvazia recipiente X\n",
      "Estado Resultante: (0, 3)\n",
      "Ação: Enche recipiente X\n",
      "Estado Resultante: (4, 3)\n",
      "Ação: Esvazia recipiente X\n",
      "Estado Resultante: (0, 3)\n",
      "Ação: Enche recipiente X\n",
      "Estado Resultante: (4, 3)\n",
      "Ação: Esvazia recipiente X\n",
      "Estado Resultante: (0, 3)\n",
      "Ação: Enche recipiente X\n",
      "Estado Resultante: (4, 3)\n",
      "Ação: Esvazia recipiente X\n",
      "Estado Resultante: (0, 3)\n",
      "Ação: Enche recipiente X\n",
      "Estado Resultante: (4, 3)\n",
      "Ação: Esvazia recipiente X\n",
      "Estado Resultante: (0, 3)\n",
      "Ação: Enche recipiente X\n",
      "Estado Resultante: (4, 3)\n",
      "Ação: Esvazia recipiente X\n",
      "Estado Resultante: (0, 3)\n",
      "Ação: Enche recipiente X\n",
      "Estado Resultante: (4, 3)\n",
      "Ação: Esvazia recipiente X\n",
      "Estado Resultante: (0, 3)\n",
      "Ação: Enche recipiente X\n",
      "Estado Resultante: (4, 3)\n",
      "Ação: Esvazia recipiente X\n",
      "Estado Resultante: (0, 3)\n",
      "Ação: Enche recipiente X\n",
      "Estado Resultante: (4, 3)\n",
      "Ação: Esvazia recipiente X\n",
      "Estado Resultante: (0, 3)\n",
      "Ação: Enche recipiente X\n",
      "Estado Resultante: (4, 3)\n",
      "Ação: Esvazia recipiente X\n",
      "Estado Resultante: (0, 3)\n",
      "Ação: Enche recipiente X\n",
      "Estado Resultante: (4, 3)\n",
      "Ação: Esvazia recipiente X\n",
      "Estado Resultante: (0, 3)\n",
      "Ação: Transfere do recipiente Y para o recipiente X\n",
      "Estado Resultante: (3, 0)\n",
      "Ação: Enche recipiente Y\n",
      "Estado Resultante: (3, 3)\n",
      "Ação: Transfere do recipiente Y para o recipiente X\n",
      "Estado Resultante: (4, 2)\n",
      "Ação: Esvazia recipiente X\n",
      "Estado Resultante: (0, 2)\n",
      "Busca concluída. Total de ações: 49\n"
     ]
    }
   ],
   "source": [
    "busca_em_profundidade_limitada = depth_limited_search(problema)\n",
    "\n",
    "acoes_ate_objetivo = []\n",
    "while busca_em_profundidade_limitada.parent is not None:\n",
    "    acoes_ate_objetivo.insert(0, (busca_em_profundidade_limitada.action, busca_em_profundidade_limitada.state))\n",
    "    busca_em_profundidade_limitada = busca_em_profundidade_limitada.parent\n",
    "\n",
    "total_acoes = 0\n",
    "print(\"Busca em Profundidade Limitada:\")\n",
    "for action, state in acoes_ate_objetivo:\n",
    "    print(f\"Ação: {action}\\nEstado Resultante: {state}\")\n",
    "    total_acoes += 1\n",
    "print(f\"Busca concluída. Total de ações: {total_acoes}\")"
   ]
  },
  {
   "cell_type": "markdown",
   "metadata": {},
   "source": [
    "### Busca em Profundidade Limitada Iterativa"
   ]
  },
  {
   "cell_type": "code",
   "execution_count": 8,
   "metadata": {},
   "outputs": [
    {
     "name": "stdout",
     "output_type": "stream",
     "text": [
      "Busca em Profundidade Limitada Iterativa:\n",
      "Ação: Enche recipiente Y\n",
      "Estado Resultante: (0, 3)\n",
      "Ação: Transfere do recipiente Y para o recipiente X\n",
      "Estado Resultante: (3, 0)\n",
      "Ação: Enche recipiente Y\n",
      "Estado Resultante: (3, 3)\n",
      "Ação: Transfere do recipiente Y para o recipiente X\n",
      "Estado Resultante: (4, 2)\n",
      "Ação: Esvazia recipiente X\n",
      "Estado Resultante: (0, 2)\n",
      "Busca concluída. Total de ações: 5\n"
     ]
    }
   ],
   "source": [
    "busca_em_profundidade_limitada_iterativa = iterative_deepening_search(problema)\n",
    "\n",
    "acoes_ate_objetivo = []\n",
    "while busca_em_profundidade_limitada_iterativa.parent is not None:\n",
    "    acoes_ate_objetivo.insert(0, (busca_em_profundidade_limitada_iterativa.action, busca_em_profundidade_limitada_iterativa.state))\n",
    "    busca_em_profundidade_limitada_iterativa = busca_em_profundidade_limitada_iterativa.parent\n",
    "\n",
    "total_acoes = 0\n",
    "print(\"Busca em Profundidade Limitada Iterativa:\")\n",
    "for action, state in acoes_ate_objetivo:\n",
    "    print(f\"Ação: {action}\\nEstado Resultante: {state}\")\n",
    "    total_acoes += 1\n",
    "print(f\"Busca concluída. Total de ações: {total_acoes}\")"
   ]
  }
 ],
 "metadata": {
  "kernelspec": {
   "display_name": "env",
   "language": "python",
   "name": "python3"
  },
  "language_info": {
   "codemirror_mode": {
    "name": "ipython",
    "version": 3
   },
   "file_extension": ".py",
   "mimetype": "text/x-python",
   "name": "python",
   "nbconvert_exporter": "python",
   "pygments_lexer": "ipython3",
   "version": "3.12.3"
  }
 },
 "nbformat": 4,
 "nbformat_minor": 2
}
